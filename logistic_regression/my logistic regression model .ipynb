{
 "cells": [
  {
   "cell_type": "code",
   "execution_count": 1,
   "id": "421d97b7",
   "metadata": {},
   "outputs": [],
   "source": [
    "import numpy as  np \n",
    "import pandas as pd "
   ]
  },
  {
   "cell_type": "code",
   "execution_count": 2,
   "id": "20070c05",
   "metadata": {},
   "outputs": [],
   "source": [
    "data = pd.read_csv(\"healthcare-dataset-stroke-data.csv\")"
   ]
  },
  {
   "cell_type": "code",
   "execution_count": 3,
   "id": "db4e4175",
   "metadata": {},
   "outputs": [],
   "source": [
    "df=pd.DataFrame(data)"
   ]
  },
  {
   "cell_type": "code",
   "execution_count": 4,
   "id": "10fa808b",
   "metadata": {},
   "outputs": [
    {
     "data": {
      "text/html": [
       "<div>\n",
       "<style scoped>\n",
       "    .dataframe tbody tr th:only-of-type {\n",
       "        vertical-align: middle;\n",
       "    }\n",
       "\n",
       "    .dataframe tbody tr th {\n",
       "        vertical-align: top;\n",
       "    }\n",
       "\n",
       "    .dataframe thead th {\n",
       "        text-align: right;\n",
       "    }\n",
       "</style>\n",
       "<table border=\"1\" class=\"dataframe\">\n",
       "  <thead>\n",
       "    <tr style=\"text-align: right;\">\n",
       "      <th></th>\n",
       "      <th>id</th>\n",
       "      <th>gender</th>\n",
       "      <th>age</th>\n",
       "      <th>hypertension</th>\n",
       "      <th>heart_disease</th>\n",
       "      <th>ever_married</th>\n",
       "      <th>work_type</th>\n",
       "      <th>Residence_type</th>\n",
       "      <th>avg_glucose_level</th>\n",
       "      <th>bmi</th>\n",
       "      <th>smoking_status</th>\n",
       "      <th>stroke</th>\n",
       "    </tr>\n",
       "  </thead>\n",
       "  <tbody>\n",
       "    <tr>\n",
       "      <th>0</th>\n",
       "      <td>9046</td>\n",
       "      <td>Male</td>\n",
       "      <td>67.0</td>\n",
       "      <td>0</td>\n",
       "      <td>1</td>\n",
       "      <td>Yes</td>\n",
       "      <td>Private</td>\n",
       "      <td>Urban</td>\n",
       "      <td>228.69</td>\n",
       "      <td>36.6</td>\n",
       "      <td>formerly smoked</td>\n",
       "      <td>1</td>\n",
       "    </tr>\n",
       "    <tr>\n",
       "      <th>1</th>\n",
       "      <td>51676</td>\n",
       "      <td>Female</td>\n",
       "      <td>61.0</td>\n",
       "      <td>0</td>\n",
       "      <td>0</td>\n",
       "      <td>Yes</td>\n",
       "      <td>Self-employed</td>\n",
       "      <td>Rural</td>\n",
       "      <td>202.21</td>\n",
       "      <td>NaN</td>\n",
       "      <td>never smoked</td>\n",
       "      <td>1</td>\n",
       "    </tr>\n",
       "    <tr>\n",
       "      <th>2</th>\n",
       "      <td>31112</td>\n",
       "      <td>Male</td>\n",
       "      <td>80.0</td>\n",
       "      <td>0</td>\n",
       "      <td>1</td>\n",
       "      <td>Yes</td>\n",
       "      <td>Private</td>\n",
       "      <td>Rural</td>\n",
       "      <td>105.92</td>\n",
       "      <td>32.5</td>\n",
       "      <td>never smoked</td>\n",
       "      <td>1</td>\n",
       "    </tr>\n",
       "    <tr>\n",
       "      <th>3</th>\n",
       "      <td>60182</td>\n",
       "      <td>Female</td>\n",
       "      <td>49.0</td>\n",
       "      <td>0</td>\n",
       "      <td>0</td>\n",
       "      <td>Yes</td>\n",
       "      <td>Private</td>\n",
       "      <td>Urban</td>\n",
       "      <td>171.23</td>\n",
       "      <td>34.4</td>\n",
       "      <td>smokes</td>\n",
       "      <td>1</td>\n",
       "    </tr>\n",
       "    <tr>\n",
       "      <th>4</th>\n",
       "      <td>1665</td>\n",
       "      <td>Female</td>\n",
       "      <td>79.0</td>\n",
       "      <td>1</td>\n",
       "      <td>0</td>\n",
       "      <td>Yes</td>\n",
       "      <td>Self-employed</td>\n",
       "      <td>Rural</td>\n",
       "      <td>174.12</td>\n",
       "      <td>24.0</td>\n",
       "      <td>never smoked</td>\n",
       "      <td>1</td>\n",
       "    </tr>\n",
       "  </tbody>\n",
       "</table>\n",
       "</div>"
      ],
      "text/plain": [
       "      id  gender   age  hypertension  heart_disease ever_married  \\\n",
       "0   9046    Male  67.0             0              1          Yes   \n",
       "1  51676  Female  61.0             0              0          Yes   \n",
       "2  31112    Male  80.0             0              1          Yes   \n",
       "3  60182  Female  49.0             0              0          Yes   \n",
       "4   1665  Female  79.0             1              0          Yes   \n",
       "\n",
       "       work_type Residence_type  avg_glucose_level   bmi   smoking_status  \\\n",
       "0        Private          Urban             228.69  36.6  formerly smoked   \n",
       "1  Self-employed          Rural             202.21   NaN     never smoked   \n",
       "2        Private          Rural             105.92  32.5     never smoked   \n",
       "3        Private          Urban             171.23  34.4           smokes   \n",
       "4  Self-employed          Rural             174.12  24.0     never smoked   \n",
       "\n",
       "   stroke  \n",
       "0       1  \n",
       "1       1  \n",
       "2       1  \n",
       "3       1  \n",
       "4       1  "
      ]
     },
     "execution_count": 4,
     "metadata": {},
     "output_type": "execute_result"
    }
   ],
   "source": [
    "df.head()"
   ]
  },
  {
   "cell_type": "code",
   "execution_count": 5,
   "id": "8eea292f",
   "metadata": {},
   "outputs": [],
   "source": [
    "#performing label encoding on the gender column\n",
    "gender_map ={\"Male\":1,\"Female\":0}\n",
    "df[\"gender\"]=df[\"gender\"].map(gender_map)"
   ]
  },
  {
   "cell_type": "code",
   "execution_count": 6,
   "id": "c9357f66",
   "metadata": {},
   "outputs": [],
   "source": [
    "smoking_encoded = {'formerly smoked':0.5, 'never smoked':0, 'smokes':1 }\n",
    "df[\"smoking_status\"] = df[\"smoking_status\"].map(smoking_encoded)"
   ]
  },
  {
   "cell_type": "code",
   "execution_count": 7,
   "id": "49371ddb",
   "metadata": {},
   "outputs": [
    {
     "data": {
      "text/plain": [
       "id                      0\n",
       "gender                  1\n",
       "age                     0\n",
       "hypertension            0\n",
       "heart_disease           0\n",
       "ever_married            0\n",
       "work_type               0\n",
       "Residence_type          0\n",
       "avg_glucose_level       0\n",
       "bmi                   201\n",
       "smoking_status       1544\n",
       "stroke                  0\n",
       "dtype: int64"
      ]
     },
     "execution_count": 7,
     "metadata": {},
     "output_type": "execute_result"
    }
   ],
   "source": [
    "df.isnull().sum()"
   ]
  },
  {
   "cell_type": "code",
   "execution_count": 8,
   "id": "75959c17",
   "metadata": {},
   "outputs": [],
   "source": [
    "df = df.dropna(subset=[\"smoking_status\"])\n"
   ]
  },
  {
   "cell_type": "code",
   "execution_count": 9,
   "id": "9e768685",
   "metadata": {
    "scrolled": true
   },
   "outputs": [],
   "source": [
    "df = df.dropna(subset=[\"bmi\"])"
   ]
  },
  {
   "cell_type": "code",
   "execution_count": 10,
   "id": "cc116c55",
   "metadata": {},
   "outputs": [],
   "source": [
    "df = df.dropna(subset=[\"gender\"])\n"
   ]
  },
  {
   "cell_type": "code",
   "execution_count": 11,
   "id": "9ad9458e",
   "metadata": {},
   "outputs": [],
   "source": [
    "df = df.reset_index()"
   ]
  },
  {
   "cell_type": "code",
   "execution_count": 12,
   "id": "6705a946",
   "metadata": {},
   "outputs": [
    {
     "data": {
      "text/html": [
       "<div>\n",
       "<style scoped>\n",
       "    .dataframe tbody tr th:only-of-type {\n",
       "        vertical-align: middle;\n",
       "    }\n",
       "\n",
       "    .dataframe tbody tr th {\n",
       "        vertical-align: top;\n",
       "    }\n",
       "\n",
       "    .dataframe thead th {\n",
       "        text-align: right;\n",
       "    }\n",
       "</style>\n",
       "<table border=\"1\" class=\"dataframe\">\n",
       "  <thead>\n",
       "    <tr style=\"text-align: right;\">\n",
       "      <th></th>\n",
       "      <th>index</th>\n",
       "      <th>id</th>\n",
       "      <th>gender</th>\n",
       "      <th>age</th>\n",
       "      <th>hypertension</th>\n",
       "      <th>heart_disease</th>\n",
       "      <th>ever_married</th>\n",
       "      <th>work_type</th>\n",
       "      <th>Residence_type</th>\n",
       "      <th>avg_glucose_level</th>\n",
       "      <th>bmi</th>\n",
       "      <th>smoking_status</th>\n",
       "      <th>stroke</th>\n",
       "    </tr>\n",
       "  </thead>\n",
       "  <tbody>\n",
       "    <tr>\n",
       "      <th>0</th>\n",
       "      <td>0</td>\n",
       "      <td>9046</td>\n",
       "      <td>1.0</td>\n",
       "      <td>67.0</td>\n",
       "      <td>0</td>\n",
       "      <td>1</td>\n",
       "      <td>Yes</td>\n",
       "      <td>Private</td>\n",
       "      <td>Urban</td>\n",
       "      <td>228.69</td>\n",
       "      <td>36.6</td>\n",
       "      <td>0.5</td>\n",
       "      <td>1</td>\n",
       "    </tr>\n",
       "    <tr>\n",
       "      <th>1</th>\n",
       "      <td>2</td>\n",
       "      <td>31112</td>\n",
       "      <td>1.0</td>\n",
       "      <td>80.0</td>\n",
       "      <td>0</td>\n",
       "      <td>1</td>\n",
       "      <td>Yes</td>\n",
       "      <td>Private</td>\n",
       "      <td>Rural</td>\n",
       "      <td>105.92</td>\n",
       "      <td>32.5</td>\n",
       "      <td>0.0</td>\n",
       "      <td>1</td>\n",
       "    </tr>\n",
       "    <tr>\n",
       "      <th>2</th>\n",
       "      <td>3</td>\n",
       "      <td>60182</td>\n",
       "      <td>0.0</td>\n",
       "      <td>49.0</td>\n",
       "      <td>0</td>\n",
       "      <td>0</td>\n",
       "      <td>Yes</td>\n",
       "      <td>Private</td>\n",
       "      <td>Urban</td>\n",
       "      <td>171.23</td>\n",
       "      <td>34.4</td>\n",
       "      <td>1.0</td>\n",
       "      <td>1</td>\n",
       "    </tr>\n",
       "    <tr>\n",
       "      <th>3</th>\n",
       "      <td>4</td>\n",
       "      <td>1665</td>\n",
       "      <td>0.0</td>\n",
       "      <td>79.0</td>\n",
       "      <td>1</td>\n",
       "      <td>0</td>\n",
       "      <td>Yes</td>\n",
       "      <td>Self-employed</td>\n",
       "      <td>Rural</td>\n",
       "      <td>174.12</td>\n",
       "      <td>24.0</td>\n",
       "      <td>0.0</td>\n",
       "      <td>1</td>\n",
       "    </tr>\n",
       "    <tr>\n",
       "      <th>4</th>\n",
       "      <td>5</td>\n",
       "      <td>56669</td>\n",
       "      <td>1.0</td>\n",
       "      <td>81.0</td>\n",
       "      <td>0</td>\n",
       "      <td>0</td>\n",
       "      <td>Yes</td>\n",
       "      <td>Private</td>\n",
       "      <td>Urban</td>\n",
       "      <td>186.21</td>\n",
       "      <td>29.0</td>\n",
       "      <td>0.5</td>\n",
       "      <td>1</td>\n",
       "    </tr>\n",
       "    <tr>\n",
       "      <th>...</th>\n",
       "      <td>...</td>\n",
       "      <td>...</td>\n",
       "      <td>...</td>\n",
       "      <td>...</td>\n",
       "      <td>...</td>\n",
       "      <td>...</td>\n",
       "      <td>...</td>\n",
       "      <td>...</td>\n",
       "      <td>...</td>\n",
       "      <td>...</td>\n",
       "      <td>...</td>\n",
       "      <td>...</td>\n",
       "      <td>...</td>\n",
       "    </tr>\n",
       "    <tr>\n",
       "      <th>3420</th>\n",
       "      <td>5100</td>\n",
       "      <td>68398</td>\n",
       "      <td>1.0</td>\n",
       "      <td>82.0</td>\n",
       "      <td>1</td>\n",
       "      <td>0</td>\n",
       "      <td>Yes</td>\n",
       "      <td>Self-employed</td>\n",
       "      <td>Rural</td>\n",
       "      <td>71.97</td>\n",
       "      <td>28.3</td>\n",
       "      <td>0.0</td>\n",
       "      <td>0</td>\n",
       "    </tr>\n",
       "    <tr>\n",
       "      <th>3421</th>\n",
       "      <td>5102</td>\n",
       "      <td>45010</td>\n",
       "      <td>0.0</td>\n",
       "      <td>57.0</td>\n",
       "      <td>0</td>\n",
       "      <td>0</td>\n",
       "      <td>Yes</td>\n",
       "      <td>Private</td>\n",
       "      <td>Rural</td>\n",
       "      <td>77.93</td>\n",
       "      <td>21.7</td>\n",
       "      <td>0.0</td>\n",
       "      <td>0</td>\n",
       "    </tr>\n",
       "    <tr>\n",
       "      <th>3422</th>\n",
       "      <td>5106</td>\n",
       "      <td>44873</td>\n",
       "      <td>0.0</td>\n",
       "      <td>81.0</td>\n",
       "      <td>0</td>\n",
       "      <td>0</td>\n",
       "      <td>Yes</td>\n",
       "      <td>Self-employed</td>\n",
       "      <td>Urban</td>\n",
       "      <td>125.20</td>\n",
       "      <td>40.0</td>\n",
       "      <td>0.0</td>\n",
       "      <td>0</td>\n",
       "    </tr>\n",
       "    <tr>\n",
       "      <th>3423</th>\n",
       "      <td>5107</td>\n",
       "      <td>19723</td>\n",
       "      <td>0.0</td>\n",
       "      <td>35.0</td>\n",
       "      <td>0</td>\n",
       "      <td>0</td>\n",
       "      <td>Yes</td>\n",
       "      <td>Self-employed</td>\n",
       "      <td>Rural</td>\n",
       "      <td>82.99</td>\n",
       "      <td>30.6</td>\n",
       "      <td>0.0</td>\n",
       "      <td>0</td>\n",
       "    </tr>\n",
       "    <tr>\n",
       "      <th>3424</th>\n",
       "      <td>5108</td>\n",
       "      <td>37544</td>\n",
       "      <td>1.0</td>\n",
       "      <td>51.0</td>\n",
       "      <td>0</td>\n",
       "      <td>0</td>\n",
       "      <td>Yes</td>\n",
       "      <td>Private</td>\n",
       "      <td>Rural</td>\n",
       "      <td>166.29</td>\n",
       "      <td>25.6</td>\n",
       "      <td>0.5</td>\n",
       "      <td>0</td>\n",
       "    </tr>\n",
       "  </tbody>\n",
       "</table>\n",
       "<p>3425 rows × 13 columns</p>\n",
       "</div>"
      ],
      "text/plain": [
       "      index     id  gender   age  hypertension  heart_disease ever_married  \\\n",
       "0         0   9046     1.0  67.0             0              1          Yes   \n",
       "1         2  31112     1.0  80.0             0              1          Yes   \n",
       "2         3  60182     0.0  49.0             0              0          Yes   \n",
       "3         4   1665     0.0  79.0             1              0          Yes   \n",
       "4         5  56669     1.0  81.0             0              0          Yes   \n",
       "...     ...    ...     ...   ...           ...            ...          ...   \n",
       "3420   5100  68398     1.0  82.0             1              0          Yes   \n",
       "3421   5102  45010     0.0  57.0             0              0          Yes   \n",
       "3422   5106  44873     0.0  81.0             0              0          Yes   \n",
       "3423   5107  19723     0.0  35.0             0              0          Yes   \n",
       "3424   5108  37544     1.0  51.0             0              0          Yes   \n",
       "\n",
       "          work_type Residence_type  avg_glucose_level   bmi  smoking_status  \\\n",
       "0           Private          Urban             228.69  36.6             0.5   \n",
       "1           Private          Rural             105.92  32.5             0.0   \n",
       "2           Private          Urban             171.23  34.4             1.0   \n",
       "3     Self-employed          Rural             174.12  24.0             0.0   \n",
       "4           Private          Urban             186.21  29.0             0.5   \n",
       "...             ...            ...                ...   ...             ...   \n",
       "3420  Self-employed          Rural              71.97  28.3             0.0   \n",
       "3421        Private          Rural              77.93  21.7             0.0   \n",
       "3422  Self-employed          Urban             125.20  40.0             0.0   \n",
       "3423  Self-employed          Rural              82.99  30.6             0.0   \n",
       "3424        Private          Rural             166.29  25.6             0.5   \n",
       "\n",
       "      stroke  \n",
       "0          1  \n",
       "1          1  \n",
       "2          1  \n",
       "3          1  \n",
       "4          1  \n",
       "...      ...  \n",
       "3420       0  \n",
       "3421       0  \n",
       "3422       0  \n",
       "3423       0  \n",
       "3424       0  \n",
       "\n",
       "[3425 rows x 13 columns]"
      ]
     },
     "execution_count": 12,
     "metadata": {},
     "output_type": "execute_result"
    }
   ],
   "source": [
    "df"
   ]
  },
  {
   "cell_type": "code",
   "execution_count": 13,
   "id": "755a5962",
   "metadata": {},
   "outputs": [],
   "source": [
    "#normalising age,avg_glucose_level,bmi \n",
    "df[\"age\"] = (df[\"age\"]-df[\"age\"].min())/(df[\"age\"].max()-df[\"age\"].min())\n",
    "df[\"avg_glucose_level\"] = (df[\"avg_glucose_level\"]-df[\"avg_glucose_level\"].min())/(df[\"avg_glucose_level\"].max()-df[\"avg_glucose_level\"].min())\n",
    "df[\"bmi\"] = (df[\"bmi\"]-df[\"bmi\"].min())/(df[\"bmi\"].max()-df[\"bmi\"].min())"
   ]
  },
  {
   "cell_type": "code",
   "execution_count": 14,
   "id": "ed53dbd7",
   "metadata": {},
   "outputs": [],
   "source": [
    "df.drop(\"index\",axis=1,inplace=True)"
   ]
  },
  {
   "cell_type": "code",
   "execution_count": 15,
   "id": "87b7b962",
   "metadata": {},
   "outputs": [],
   "source": [
    "x_train =df[['gender', 'age', 'hypertension', 'heart_disease', 'avg_glucose_level', 'bmi','smoking_status']] "
   ]
  },
  {
   "cell_type": "code",
   "execution_count": 16,
   "id": "1f2841b8",
   "metadata": {},
   "outputs": [
    {
     "data": {
      "text/plain": [
       "gender               0\n",
       "age                  0\n",
       "hypertension         0\n",
       "heart_disease        0\n",
       "avg_glucose_level    0\n",
       "bmi                  0\n",
       "smoking_status       0\n",
       "dtype: int64"
      ]
     },
     "execution_count": 16,
     "metadata": {},
     "output_type": "execute_result"
    }
   ],
   "source": [
    "x_train.isnull().sum()"
   ]
  },
  {
   "cell_type": "code",
   "execution_count": 17,
   "id": "e568917c",
   "metadata": {},
   "outputs": [],
   "source": [
    "y_train = df[\"stroke\"]"
   ]
  },
  {
   "cell_type": "code",
   "execution_count": 18,
   "id": "d5d64358",
   "metadata": {},
   "outputs": [],
   "source": [
    "# we know that linear regression= sigmoid = = 1/1+e^-z\n",
    "#where z = w.x + z \n",
    "def sigmoid(z):\n",
    "    g= 1/(1+np.exp(-z))\n",
    "    \n",
    "    return g"
   ]
  },
  {
   "cell_type": "code",
   "execution_count": 19,
   "id": "206db25f",
   "metadata": {},
   "outputs": [
    {
     "data": {
      "text/plain": [
       "0.5"
      ]
     },
     "execution_count": 19,
     "metadata": {},
     "output_type": "execute_result"
    }
   ],
   "source": [
    "sigmoid(0)"
   ]
  },
  {
   "cell_type": "code",
   "execution_count": 20,
   "id": "33966aee",
   "metadata": {
    "scrolled": true
   },
   "outputs": [],
   "source": [
    "#calculating cost for the model \n",
    "def comp_cost(x,y,w,b):\n",
    "    \n",
    "    m,n = x.shape\n",
    "   \n",
    "    z_wb =0\n",
    "    loss_sum=0\n",
    "    epsilon = 1e-15 \n",
    "    \n",
    "    for i in range(m):\n",
    "        for j in range(n):\n",
    "            z_wb_j =  w[j]*x.iloc[i][j] \n",
    "            z_wb+=z_wb_j\n",
    "        z_wb+=b\n",
    "        #print(z_wb)\n",
    "        func = sigmoid(z_wb)\n",
    "        #print(func)\n",
    "        loss = (-y.iloc[i] * np.log(func + epsilon)) - (1 - y.iloc[i]) * np.log(1 - func + epsilon)\n",
    "        #print(\"loss\",loss)\n",
    "        loss_sum+= loss\n",
    "        #print(\"loss_sum\",loss_sum)\n",
    "        #print(\"i\",i)\n",
    "    cost = loss_sum/m\n",
    "    return cost\n",
    "    "
   ]
  },
  {
   "cell_type": "code",
   "execution_count": 21,
   "id": "3874ed19",
   "metadata": {},
   "outputs": [
    {
     "name": "stdout",
     "output_type": "stream",
     "text": [
      "Cost at initial w and b (zeros): 0.693\n"
     ]
    }
   ],
   "source": [
    "n = 7\n",
    "# Compute and display cost with w and b initialized to zeros\n",
    "initial_w = np.zeros(n)\n",
    "initial_b = 0\n",
    "cost = comp_cost(x_train, y_train, initial_w, initial_b)\n",
    "print('Cost at initial w and b (zeros): {:.3f}'.format(cost))"
   ]
  },
  {
   "cell_type": "code",
   "execution_count": 22,
   "id": "c7f4318b",
   "metadata": {},
   "outputs": [],
   "source": [
    "#finding differentiated w and b value which needs to be substituted in gradient descent\n",
    "def grad_func(x,y,w,b):\n",
    "    \n",
    "    m,n=x.shape\n",
    "    z_wb=0\n",
    "    sum_error=0\n",
    "    dj_j=np.zeros(w.shape)\n",
    "    \n",
    "    for i in range(m):\n",
    "        for j in range(n):\n",
    "            z_ij = w[j]*x.iloc[i,j]\n",
    "            z_wb+=z_ij\n",
    "        z_wb+=b\n",
    "        func = sigmoid(z_wb)\n",
    "        error = func - y.iloc[i]\n",
    "        sum_error+= error\n",
    "        db = sum_error/m\n",
    "        \n",
    "        for j in range(n):\n",
    "            dj_i = error*x.iloc[i,j]\n",
    "            dj_j[j] += dj_i\n",
    "        dw = dj_j/m\n",
    "        \n",
    "        \n",
    "        return dw,db\n",
    "    \n",
    "    \n",
    "    "
   ]
  },
  {
   "cell_type": "code",
   "execution_count": 23,
   "id": "e94ad5ee",
   "metadata": {},
   "outputs": [
    {
     "name": "stdout",
     "output_type": "stream",
     "text": [
      "dw at initial : [-1.45985401e-04 -1.15571776e-04  0.00000000e+00 -1.45985401e-04\n",
      " -1.16972976e-04 -4.55184295e-05 -7.29927007e-05] \n",
      "   db at intial : -0.00014598540145985403\n"
     ]
    }
   ],
   "source": [
    "initial_w = np.zeros(n)\n",
    "initial_b = 0\n",
    "dw,db = grad_func(x_train, y_train, initial_w, initial_b)\n",
    "print(f\"dw at initial : {dw} \\n   db at intial : {db}\")"
   ]
  },
  {
   "cell_type": "code",
   "execution_count": 24,
   "id": "9c0b9b78",
   "metadata": {},
   "outputs": [],
   "source": [
    "# gradient descent is the method of finding suitanle w and b for our model \n",
    "def gradient_descent(x,y,w,b,comp_cost,grad_func,alpha,num_iters) :\n",
    "    \n",
    "    \n",
    "    j_hist = []\n",
    "    for i in range(num_iters):\n",
    "        \n",
    "        dw,db = grad_func(x,y,w,b)\n",
    "        w = w-alpha*dw\n",
    "        b = b-alpha*db\n",
    "        \n",
    "        \n",
    "        cost = comp_cost(x,y,w,b)\n",
    "        j_hist.append(cost)\n",
    "        \n",
    "        \n",
    "        if i%5==0 :\n",
    "            print(f\"iterations  : {i}   cost :{j_hist[-1]}\")\n",
    "\n",
    "    return w,b,j_hist\n",
    "\n",
    "\n",
    "        \n",
    "        "
   ]
  },
  {
   "cell_type": "code",
   "execution_count": 25,
   "id": "4412ecde",
   "metadata": {},
   "outputs": [
    {
     "name": "stdout",
     "output_type": "stream",
     "text": [
      "w [0.1 0.2 0.3 0.4 0.5 0.6 0.7]\n",
      "iterations  : 0   cost :32.72360022468938\n",
      "iterations  : 5   cost :32.72360022432206\n",
      "iterations  : 10   cost :32.72360022395542\n",
      "iterations  : 15   cost :32.72360022358945\n",
      "iterations  : 20   cost :32.723600223224146\n",
      "iterations  : 25   cost :32.72360022285952\n",
      "iterations  : 30   cost :32.723600222495556\n",
      "iterations  : 35   cost :32.72360022213226\n",
      "iterations  : 40   cost :32.72360022176962\n",
      "iterations  : 45   cost :32.723600221407644\n",
      "iterations  : 50   cost :32.72360022104633\n",
      "iterations  : 55   cost :32.72360022068568\n",
      "iterations  : 60   cost :32.72360022032568\n",
      "iterations  : 65   cost :32.72360021996633\n",
      "iterations  : 70   cost :32.72360021960764\n",
      "iterations  : 75   cost :32.7236002192496\n",
      "iterations  : 80   cost :32.7236002188922\n",
      "iterations  : 85   cost :32.72360021853546\n",
      "iterations  : 90   cost :32.72360021817936\n",
      "iterations  : 95   cost :32.7236002178239\n",
      "w and b found by gradient descent is w :[0.10394642 0.20312425 0.3        0.40394642 0.50316213 0.6012305\n",
      " 0.70197321] \n",
      " b: 5.003946419735627\n"
     ]
    }
   ],
   "source": [
    "w = np.array([0.1,0.2,0.3,0.4,0.5,0.6,0.7])\n",
    "print(\"w\",w)\n",
    "b = 5\n",
    "num_iters = 100\n",
    "alpha = 100\n",
    "\n",
    "new_w,new_b,_=gradient_descent(x_train,y_train,w,b,comp_cost,grad_func,alpha,num_iters)\n",
    "print(f\"w and b found by gradient descent is w :{new_w} \\n b: {new_b}\")"
   ]
  },
  {
   "cell_type": "code",
   "execution_count": 26,
   "id": "2470dae7",
   "metadata": {},
   "outputs": [],
   "source": [
    "#from the obtained new w and b the output can be predicted \n",
    "\n",
    "def pred(x,w,b):\n",
    "    \n",
    "    m,n = x.shape \n",
    "    z_wb=0\n",
    "    p = np.zeros(m)\n",
    "    for i in range(m):\n",
    "        \n",
    "        for j in range(n):\n",
    "            z_wb_j = w[j]*x[i][j]\n",
    "            z_wb+=z_wb_j\n",
    "        z_wb+=b\n",
    "        func =  sigmoid(z_wb)\n",
    "        \n",
    "        if func>=0.5 :\n",
    "            p[i] = 1\n",
    "        if func<0.5:\n",
    "            p[i]=0\n",
    "            \n",
    "    return p\n",
    "        "
   ]
  },
  {
   "cell_type": "code",
   "execution_count": 27,
   "id": "aacf15e8",
   "metadata": {},
   "outputs": [
    {
     "name": "stdout",
     "output_type": "stream",
     "text": [
      "first value :\n",
      " id                       9046\n",
      "gender                    1.0\n",
      "age                  0.791667\n",
      "hypertension                0\n",
      "heart_disease               1\n",
      "ever_married              Yes\n",
      "work_type             Private\n",
      "Residence_type          Urban\n",
      "avg_glucose_level    0.801265\n",
      "bmi                  0.311801\n",
      "smoking_status            0.5\n",
      "stroke                      1\n",
      "Name: 0, dtype: object\n",
      "second value :\n",
      " id                      31112\n",
      "gender                    1.0\n",
      "age                  0.972222\n",
      "hypertension                0\n",
      "heart_disease               1\n",
      "ever_married              Yes\n",
      "work_type             Private\n",
      "Residence_type          Rural\n",
      "avg_glucose_level    0.234512\n",
      "bmi                   0.26087\n",
      "smoking_status            0.0\n",
      "stroke                      1\n",
      "Name: 1, dtype: object\n"
     ]
    }
   ],
   "source": [
    "# lets test it with an example \n",
    "print(\"first value :\\n\", df.iloc[0])\n",
    "print(\"second value :\\n\", df.iloc[1])\n"
   ]
  },
  {
   "cell_type": "code",
   "execution_count": 28,
   "id": "fe4672fb",
   "metadata": {},
   "outputs": [
    {
     "data": {
      "text/plain": [
       "array([1., 1.])"
      ]
     },
     "execution_count": 28,
     "metadata": {},
     "output_type": "execute_result"
    }
   ],
   "source": [
    "x = np.array([[1,0.791667,0,1,0.801265,0.311801,0.5],[1,0.972222,0,1,0.234512,0.26087,0]])\n",
    "p = pred(x,new_w,new_b)\n",
    "p"
   ]
  },
  {
   "cell_type": "code",
   "execution_count": null,
   "id": "a52d524d",
   "metadata": {},
   "outputs": [],
   "source": []
  }
 ],
 "metadata": {
  "kernelspec": {
   "display_name": "Python 3",
   "language": "python",
   "name": "python3"
  },
  "language_info": {
   "codemirror_mode": {
    "name": "ipython",
    "version": 3
   },
   "file_extension": ".py",
   "mimetype": "text/x-python",
   "name": "python",
   "nbconvert_exporter": "python",
   "pygments_lexer": "ipython3",
   "version": "3.8.8"
  }
 },
 "nbformat": 4,
 "nbformat_minor": 5
}
